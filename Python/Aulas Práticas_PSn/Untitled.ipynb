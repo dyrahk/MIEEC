{
 "cells": [
  {
   "cell_type": "markdown",
   "metadata": {},
   "source": [
    "1 - Explique em poucas palavras como funciona a estimação de erro por camadas e diga justificando\n",
    "se ela tem uma tendência otimista ou pessimista."
   ]
  },
  {
   "cell_type": "markdown",
   "metadata": {},
   "source": [
    "Na estimação de erro por camadas o conjunto de treino é dividido em V subconjuntos com o mesmo número de exemplos. destes V subconjuntos, V-1 servirão para treino enquanto o que sobra serve para teste. Após este teste o conjunto usado para teste é trocado por um dos que foi utilizado para treino e volta-se a testar. Este processo repete-se até que todos os V conjuntos tenham sido utilizados para teste.\n",
    "\n",
    "Este processo tem uma tendência pessimista pois a estimação depende de como é feita a divisão dos conjuntos e também porque não são contabilizados todos os exemplos para fazer a estimação."
   ]
  },
  {
   "cell_type": "markdown",
   "metadata": {},
   "source": [
    "----\n",
    "2 - Sabendo que se pretende efetuar imputação por “atribuição do valor médio dentro da classe” qual\n",
    "a classe do exemplo V1=2,6, V2=3,7 e V3=2,8 se for utilizado um classificador k-nearest neighbour\n",
    "com k=3 que use a distância City-block ?"
   ]
  },
  {
   "cell_type": "code",
   "execution_count": null,
   "metadata": {},
   "outputs": [],
   "source": []
  },
  {
   "cell_type": "code",
   "execution_count": 7,
   "metadata": {},
   "outputs": [
    {
     "data": {
      "text/html": [
       "<div>\n",
       "<style scoped>\n",
       "    .dataframe tbody tr th:only-of-type {\n",
       "        vertical-align: middle;\n",
       "    }\n",
       "\n",
       "    .dataframe tbody tr th {\n",
       "        vertical-align: top;\n",
       "    }\n",
       "\n",
       "    .dataframe thead th {\n",
       "        text-align: right;\n",
       "    }\n",
       "</style>\n",
       "<table border=\"1\" class=\"dataframe\">\n",
       "  <thead>\n",
       "    <tr style=\"text-align: right;\">\n",
       "      <th></th>\n",
       "      <th>V1</th>\n",
       "      <th>V2</th>\n",
       "      <th>V3</th>\n",
       "      <th>Classe</th>\n",
       "    </tr>\n",
       "  </thead>\n",
       "  <tbody>\n",
       "    <tr>\n",
       "      <th>0</th>\n",
       "      <td>3.80</td>\n",
       "      <td>2.8</td>\n",
       "      <td>6.30</td>\n",
       "      <td>1</td>\n",
       "    </tr>\n",
       "    <tr>\n",
       "      <th>1</th>\n",
       "      <td>0.90</td>\n",
       "      <td>9.0</td>\n",
       "      <td>5.60</td>\n",
       "      <td>2</td>\n",
       "    </tr>\n",
       "    <tr>\n",
       "      <th>2</th>\n",
       "      <td>6.10</td>\n",
       "      <td>7.3</td>\n",
       "      <td>8.40</td>\n",
       "      <td>1</td>\n",
       "    </tr>\n",
       "    <tr>\n",
       "      <th>3</th>\n",
       "      <td>4.95</td>\n",
       "      <td>4.6</td>\n",
       "      <td>0.30</td>\n",
       "      <td>1</td>\n",
       "    </tr>\n",
       "    <tr>\n",
       "      <th>4</th>\n",
       "      <td>1.30</td>\n",
       "      <td>9.0</td>\n",
       "      <td>4.45</td>\n",
       "      <td>2</td>\n",
       "    </tr>\n",
       "    <tr>\n",
       "      <th>5</th>\n",
       "      <td>0.50</td>\n",
       "      <td>1.0</td>\n",
       "      <td>3.30</td>\n",
       "      <td>2</td>\n",
       "    </tr>\n",
       "  </tbody>\n",
       "</table>\n",
       "</div>"
      ],
      "text/plain": [
       "     V1   V2    V3  Classe\n",
       "0  3.80  2.8  6.30       1\n",
       "1  0.90  9.0  5.60       2\n",
       "2  6.10  7.3  8.40       1\n",
       "3  4.95  4.6  0.30       1\n",
       "4  1.30  9.0  4.45       2\n",
       "5  0.50  1.0  3.30       2"
      ]
     },
     "execution_count": 7,
     "metadata": {},
     "output_type": "execute_result"
    }
   ],
   "source": [
    "import os\n",
    "import pandas as pd\n",
    "\n",
    "#Cálculo dos missing values\n",
    "v1_2=(1.3+0.5)/2\n",
    "v1_4=(3.8+6.1)/2\n",
    "v3_5=(5.6+3.3)/2\n",
    "\n",
    "#Criação de dataframe\n",
    "d = {'V1': [3.8,v1_2,6.1,v1_4,1.3,0.5],\n",
    "     'V2': [2.8,9.0,7.3,4.6,9.0,1.0],\n",
    "     'V3': [6.3,5.6,8.4,0.3,v3_5,3.3],\n",
    "     'Classe': [1,2,1,1,2,2]}\n",
    "df = pd.DataFrame(data=d)\n",
    "df"
   ]
  },
  {
   "cell_type": "code",
   "execution_count": 13,
   "metadata": {},
   "outputs": [
    {
     "data": {
      "text/plain": [
       "array([1], dtype=int64)"
      ]
     },
     "execution_count": 13,
     "metadata": {},
     "output_type": "execute_result"
    }
   ],
   "source": [
    "from sklearn.model_selection import train_test_split \n",
    "from sklearn.neighbors import KNeighborsClassifier\n",
    "\n",
    "X=df.drop(['Classe'],1)\n",
    "Y=df['Classe']\n",
    "X_test=pd.DataFrame({'V1':[2.6],'V2':[3.7],'V3':[2.8]})\n",
    "knn=KNeighborsClassifier(n_neighbors=3,metric='cityblock') # Criação de um KNN com K=3 e métrica cityblock\n",
    "knn.fit(X,Y) # treinar o classificador com dados e classe de treino\n",
    "knn.predict(X_test)"
   ]
  },
  {
   "cell_type": "code",
   "execution_count": null,
   "metadata": {},
   "outputs": [],
   "source": []
  }
 ],
 "metadata": {
  "kernelspec": {
   "display_name": "Python 3",
   "language": "python",
   "name": "python3"
  },
  "language_info": {
   "codemirror_mode": {
    "name": "ipython",
    "version": 3
   },
   "file_extension": ".py",
   "mimetype": "text/x-python",
   "name": "python",
   "nbconvert_exporter": "python",
   "pygments_lexer": "ipython3",
   "version": "3.7.1"
  }
 },
 "nbformat": 4,
 "nbformat_minor": 2
}
